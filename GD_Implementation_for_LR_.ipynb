{
  "nbformat": 4,
  "nbformat_minor": 0,
  "metadata": {
    "kernelspec": {
      "display_name": "Python 3",
      "language": "python",
      "name": "python3"
    },
    "language_info": {
      "codemirror_mode": {
        "name": "ipython",
        "version": 3
      },
      "file_extension": ".py",
      "mimetype": "text/x-python",
      "name": "python",
      "nbconvert_exporter": "python",
      "pygments_lexer": "ipython3",
      "version": "3.8.5"
    },
    "colab": {
      "name": "Practical Session 1 GD Implementation for LR .ipynb",
      "provenance": []
    }
  },
  "cells": [
    {
      "cell_type": "markdown",
      "metadata": {
        "id": "Pq6oxdpA4XGs"
      },
      "source": [
        "## Practical Work 1"
      ]
    },
    {
      "cell_type": "markdown",
      "metadata": {
        "id": "yFJ3Zagv4XGy"
      },
      "source": [
        "For this practical work, the student will have to develop a Python program that is able to implement the gradient descent in order to achieve the linear regression of a set of datapoints."
      ]
    },
    {
      "cell_type": "markdown",
      "metadata": {
        "id": "07zhBiDN4XG0"
      },
      "source": [
        "#### Import numpy, matplotlib.pyplot and make it inline"
      ]
    },
    {
      "cell_type": "code",
      "metadata": {
        "id": "GOzbVpMC4XG1"
      },
      "source": [
        ""
      ],
      "execution_count": null,
      "outputs": []
    },
    {
      "cell_type": "markdown",
      "metadata": {
        "id": "XmUhMrXD4XG2"
      },
      "source": [
        "#### Read RegData csv file into numpy array  (check your data)\n",
        "##### Data source\n",
        "https://college.cengage.com/mathematics/brase/understandable_statistics/7e/students/datasets/slr/frames/frame.html\n"
      ]
    },
    {
      "cell_type": "code",
      "metadata": {
        "id": "75U14-e84XG3"
      },
      "source": [
        ""
      ],
      "execution_count": null,
      "outputs": []
    },
    {
      "cell_type": "markdown",
      "metadata": {
        "id": "y5PDTnH-4XG4"
      },
      "source": [
        "#### Explore your data"
      ]
    },
    {
      "cell_type": "code",
      "metadata": {
        "id": "o2oV85QQ4XG6"
      },
      "source": [
        ""
      ],
      "execution_count": null,
      "outputs": []
    },
    {
      "cell_type": "markdown",
      "metadata": {
        "id": "-bLq0e__4XG8"
      },
      "source": [
        "#### Define variables X and y. Assign first column data to X and second column to y\n",
        "<b>Note:</b> X is the independent variable (input to LR model) and y is the dependent variable (output)"
      ]
    },
    {
      "cell_type": "code",
      "metadata": {
        "id": "iyf342Zw4XG-"
      },
      "source": [
        ""
      ],
      "execution_count": null,
      "outputs": []
    },
    {
      "cell_type": "markdown",
      "metadata": {
        "id": "n9EcHGr54XG-"
      },
      "source": [
        "#### Explore your data"
      ]
    },
    {
      "cell_type": "code",
      "metadata": {
        "id": "W2u5VIcv4XG_"
      },
      "source": [
        ""
      ],
      "execution_count": null,
      "outputs": []
    },
    {
      "cell_type": "code",
      "metadata": {
        "scrolled": true,
        "id": "aHoQeiq-4XHA"
      },
      "source": [
        ""
      ],
      "execution_count": null,
      "outputs": []
    },
    {
      "cell_type": "markdown",
      "metadata": {
        "id": "_7a_3gvu4XHA"
      },
      "source": [
        "#### Plot the original data (scatter plot of X,y)"
      ]
    },
    {
      "cell_type": "code",
      "metadata": {
        "id": "A-pNkElu4XHB"
      },
      "source": [
        ""
      ],
      "execution_count": null,
      "outputs": []
    },
    {
      "cell_type": "markdown",
      "metadata": {
        "id": "6erXIkTc4XHC"
      },
      "source": [
        "## LR Full Implementation"
      ]
    },
    {
      "cell_type": "markdown",
      "metadata": {
        "id": "v3MRdE4h4XHD"
      },
      "source": [
        "### Step1: Initialize parameters (theta_0 & theta_1) with random value or simply zero. Also choose the Learning rate. "
      ]
    },
    {
      "cell_type": "markdown",
      "metadata": {
        "id": "WcwP3fQW4XHD"
      },
      "source": [
        "![image.png](attachment:image.png)"
      ]
    },
    {
      "cell_type": "code",
      "metadata": {
        "id": "-_CmxoE54XHD"
      },
      "source": [
        ""
      ],
      "execution_count": null,
      "outputs": []
    },
    {
      "cell_type": "markdown",
      "metadata": {
        "id": "3Myn2-O34XHE"
      },
      "source": [
        "### Step2: Use (theta_0 & theta_1) to predict the output h(x)= theta_0 + theta_1 * x.![image.png](attachment:image.png)\n",
        "#### Note: you will need to iterate through all data points"
      ]
    },
    {
      "cell_type": "code",
      "metadata": {
        "id": "6QP1tenQ4XHE"
      },
      "source": [
        ""
      ],
      "execution_count": null,
      "outputs": []
    },
    {
      "cell_type": "markdown",
      "metadata": {
        "id": "09HxuA2F4XHF"
      },
      "source": [
        "### Step3: Calculate Cost function 𝑱(theta_0,theta_1 ).![image.png](attachment:image.png)\n",
        "![image-2.png](attachment:image-2.png)"
      ]
    },
    {
      "cell_type": "code",
      "metadata": {
        "id": "NWa0tGox4XHF"
      },
      "source": [
        ""
      ],
      "execution_count": null,
      "outputs": []
    },
    {
      "cell_type": "markdown",
      "metadata": {
        "id": "hUK8zwuJ4XHG"
      },
      "source": [
        "### Step4: Calculate the gradient.![image.png](attachment:image.png)\n",
        "![image-2.png](attachment:image-2.png)"
      ]
    },
    {
      "cell_type": "code",
      "metadata": {
        "id": "JO8apkWg4XHG"
      },
      "source": [
        ""
      ],
      "execution_count": null,
      "outputs": []
    },
    {
      "cell_type": "markdown",
      "metadata": {
        "id": "Vb92sQFU4XHG"
      },
      "source": [
        "### Step5: Update the parameters (simultaneously).![image.png](attachment:image.png)\n",
        "![image-2.png](attachment:image-2.png)"
      ]
    },
    {
      "cell_type": "code",
      "metadata": {
        "id": "k2BxJtwt4XHH"
      },
      "source": [
        ""
      ],
      "execution_count": null,
      "outputs": []
    },
    {
      "cell_type": "markdown",
      "metadata": {
        "id": "Hmj6q53Z4XHH"
      },
      "source": [
        "### Step6: Repeat from 2 to 5 until converge to the minimum or achieve maximum iterations.![image.png](attachment:image.png)"
      ]
    },
    {
      "cell_type": "code",
      "metadata": {
        "id": "PGy07q8v4XHH"
      },
      "source": [
        ""
      ],
      "execution_count": null,
      "outputs": []
    },
    {
      "cell_type": "markdown",
      "metadata": {
        "id": "hpOCROe44XHI"
      },
      "source": [
        "#### Predict y values using the LR equation\n",
        "##### h(x)= theta_0 + theta_1 * x"
      ]
    },
    {
      "cell_type": "code",
      "metadata": {
        "id": "In0FEQwJ4XHI"
      },
      "source": [
        ""
      ],
      "execution_count": null,
      "outputs": []
    },
    {
      "cell_type": "markdown",
      "metadata": {
        "id": "r4e5iH8E4XHI"
      },
      "source": [
        "#### Plot  LR equation output (fitted line) with the original data (scatter plot of X,y)"
      ]
    },
    {
      "cell_type": "code",
      "metadata": {
        "scrolled": false,
        "id": "7DRMmXBh4XHI"
      },
      "source": [
        ""
      ],
      "execution_count": null,
      "outputs": []
    },
    {
      "cell_type": "markdown",
      "metadata": {
        "id": "HQK1e3zu4XHJ"
      },
      "source": [
        "#### Use R2 score to evaluate LR equation output\n",
        "![image.png](attachment:image.png)\n",
        "![image-2.png](attachment:image-2.png)\n",
        "![image-3.png](attachment:image-3.png)\n",
        "https://en.wikipedia.org/wiki/Coefficient_of_determination"
      ]
    },
    {
      "cell_type": "code",
      "metadata": {
        "id": "5nFmIyhH4XHJ"
      },
      "source": [
        ""
      ],
      "execution_count": null,
      "outputs": []
    },
    {
      "cell_type": "markdown",
      "metadata": {
        "id": "GETBX-Lj4XHJ"
      },
      "source": [
        "## GD vectorize Implementation\n",
        "### Implement GD without iterate through data points i.e. use vector operations"
      ]
    },
    {
      "cell_type": "code",
      "metadata": {
        "id": "RVWqEfRp4XHK"
      },
      "source": [
        ""
      ],
      "execution_count": null,
      "outputs": []
    },
    {
      "cell_type": "markdown",
      "metadata": {
        "id": "CXPsaH8_4XHK"
      },
      "source": [
        "#### Plot the output and calculate R2 score\n",
        "##### Make sure that you obtained the same results"
      ]
    },
    {
      "cell_type": "code",
      "metadata": {
        "id": "yND9C7Zl4XHK"
      },
      "source": [
        ""
      ],
      "execution_count": null,
      "outputs": []
    },
    {
      "cell_type": "code",
      "metadata": {
        "id": "CHbRar-64XHK"
      },
      "source": [
        ""
      ],
      "execution_count": null,
      "outputs": []
    },
    {
      "cell_type": "code",
      "metadata": {
        "id": "3xCDfg7R4XHL"
      },
      "source": [
        ""
      ],
      "execution_count": null,
      "outputs": []
    },
    {
      "cell_type": "markdown",
      "metadata": {
        "id": "9aMsYDAX4XHL"
      },
      "source": [
        "## Plot loss function\n",
        "### Repeat your last vectorized implementaion version and save loss for each iteration (epoch)"
      ]
    },
    {
      "cell_type": "code",
      "metadata": {
        "id": "3q-md8du4XHL"
      },
      "source": [
        ""
      ],
      "execution_count": null,
      "outputs": []
    },
    {
      "cell_type": "markdown",
      "metadata": {
        "id": "8bLhJ_Sr4XHL"
      },
      "source": [
        "### Plot loss vs. iterations"
      ]
    },
    {
      "cell_type": "code",
      "metadata": {
        "id": "fRDmbVXx4XHL"
      },
      "source": [
        ""
      ],
      "execution_count": null,
      "outputs": []
    },
    {
      "cell_type": "markdown",
      "metadata": {
        "id": "9lrHZS3I4XHM"
      },
      "source": [
        "## Multivariate LR"
      ]
    },
    {
      "cell_type": "markdown",
      "metadata": {
        "id": "YfBhc3qf4XHM"
      },
      "source": [
        "#### Read MultipleLR csv file into numpy array  (check your data)\n",
        "##### Data source\n",
        "https://college.cengage.com/mathematics/brase/understandable_statistics/7e/students/datasets/slr/frames/frame.html\n"
      ]
    },
    {
      "cell_type": "code",
      "metadata": {
        "id": "eb8NPQU84XHM"
      },
      "source": [
        ""
      ],
      "execution_count": null,
      "outputs": []
    },
    {
      "cell_type": "code",
      "metadata": {
        "id": "XuwnNe8K4XHM"
      },
      "source": [
        ""
      ],
      "execution_count": null,
      "outputs": []
    },
    {
      "cell_type": "code",
      "metadata": {
        "id": "PlsO5BeZ4XHM"
      },
      "source": [
        ""
      ],
      "execution_count": null,
      "outputs": []
    },
    {
      "cell_type": "code",
      "metadata": {
        "id": "HedKrqpz4XHN"
      },
      "source": [
        ""
      ],
      "execution_count": null,
      "outputs": []
    },
    {
      "cell_type": "code",
      "metadata": {
        "id": "6reKzJ9_4XHN"
      },
      "source": [
        ""
      ],
      "execution_count": null,
      "outputs": []
    },
    {
      "cell_type": "markdown",
      "metadata": {
        "id": "GU8VenTA4XHN"
      },
      "source": [
        "### Repeat your implementation but for more than one variable"
      ]
    },
    {
      "cell_type": "code",
      "metadata": {
        "id": "QSSPG46W4XHN"
      },
      "source": [
        ""
      ],
      "execution_count": null,
      "outputs": []
    },
    {
      "cell_type": "markdown",
      "metadata": {
        "id": "iIPoy12g4XHN"
      },
      "source": [
        "#### Predict y values using the LR equation\n",
        "##### h(x)= theta_0 + theta_1 * x1 + theta_2 * x2 + theta_3 * x3"
      ]
    },
    {
      "cell_type": "code",
      "metadata": {
        "id": "As71prp64XHO"
      },
      "source": [
        ""
      ],
      "execution_count": null,
      "outputs": []
    },
    {
      "cell_type": "markdown",
      "metadata": {
        "id": "Q0wWLedQ4XHO"
      },
      "source": [
        "### Plot loss vs. iterations"
      ]
    },
    {
      "cell_type": "code",
      "metadata": {
        "scrolled": false,
        "id": "yNJHYf4d4XHO"
      },
      "source": [
        ""
      ],
      "execution_count": null,
      "outputs": []
    },
    {
      "cell_type": "markdown",
      "metadata": {
        "id": "kAEh9fwn4XHO"
      },
      "source": [
        "#### Use R2 score to evaluate LR equation output"
      ]
    },
    {
      "cell_type": "code",
      "metadata": {
        "id": "6BlFOKGT4XHO"
      },
      "source": [
        ""
      ],
      "execution_count": null,
      "outputs": []
    },
    {
      "cell_type": "markdown",
      "metadata": {
        "id": "3nxB1JfC4XHP"
      },
      "source": [
        "# Bonus\n",
        "## LR Using sklearn"
      ]
    },
    {
      "cell_type": "markdown",
      "metadata": {
        "id": "zBhbG-Rn4XHP"
      },
      "source": [
        "### Single Variable"
      ]
    },
    {
      "cell_type": "markdown",
      "metadata": {
        "id": "nfWdgn2B4XHP"
      },
      "source": [
        "#### Build a LR model usin linearmodel.LinearRegression() from sklearn library"
      ]
    },
    {
      "cell_type": "code",
      "metadata": {
        "id": "Z4TqfNkL4XHP"
      },
      "source": [
        ""
      ],
      "execution_count": null,
      "outputs": []
    },
    {
      "cell_type": "code",
      "metadata": {
        "id": "iS32FGMt4XHP"
      },
      "source": [
        ""
      ],
      "execution_count": null,
      "outputs": []
    },
    {
      "cell_type": "markdown",
      "metadata": {
        "id": "1h1LBaZ04XHP"
      },
      "source": [
        "#### Train the model (fit the model to the training data)"
      ]
    },
    {
      "cell_type": "code",
      "metadata": {
        "scrolled": true,
        "id": "t5txTdsF4XHQ"
      },
      "source": [
        ""
      ],
      "execution_count": null,
      "outputs": []
    },
    {
      "cell_type": "markdown",
      "metadata": {
        "id": "AT7dlHrr4XHQ"
      },
      "source": [
        "#### Predict y values using the trained model"
      ]
    },
    {
      "cell_type": "code",
      "metadata": {
        "id": "_o3a13qr4XHQ"
      },
      "source": [
        ""
      ],
      "execution_count": null,
      "outputs": []
    },
    {
      "cell_type": "markdown",
      "metadata": {
        "id": "Fhguz-M44XHQ"
      },
      "source": [
        "#### Plot model output (fitted line) with the original data (scatter plot of X,y)"
      ]
    },
    {
      "cell_type": "code",
      "metadata": {
        "id": "OE_bn6fF4XHQ"
      },
      "source": [
        ""
      ],
      "execution_count": null,
      "outputs": []
    },
    {
      "cell_type": "markdown",
      "metadata": {
        "id": "Ll7pleAP4XHQ"
      },
      "source": [
        "#### Use R2 score to evaluate model output"
      ]
    },
    {
      "cell_type": "code",
      "metadata": {
        "id": "RMqI52XH4XHQ"
      },
      "source": [
        ""
      ],
      "execution_count": null,
      "outputs": []
    },
    {
      "cell_type": "code",
      "metadata": {
        "id": "3piUSk2T4XHQ"
      },
      "source": [
        ""
      ],
      "execution_count": null,
      "outputs": []
    },
    {
      "cell_type": "markdown",
      "metadata": {
        "id": "Wo3dlEne4XHR"
      },
      "source": [
        "### Repeat for Mulivariate"
      ]
    },
    {
      "cell_type": "code",
      "metadata": {
        "id": "AxWIwSNr4XHR"
      },
      "source": [
        ""
      ],
      "execution_count": null,
      "outputs": []
    }
  ]
}