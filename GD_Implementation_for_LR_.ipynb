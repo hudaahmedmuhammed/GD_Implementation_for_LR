{
 "cells": [
  {
   "cell_type": "markdown",
   "metadata": {
    "id": "Pq6oxdpA4XGs"
   },
   "source": [
    "## Practical Work 1"
   ]
  },
  {
   "cell_type": "markdown",
   "metadata": {
    "id": "yFJ3Zagv4XGy"
   },
   "source": [
    "For this practical work, the student will have to develop a Python program that is able to implement the gradient descent in order to achieve the linear regression of a set of datapoints."
   ]
  },
  {
   "cell_type": "markdown",
   "metadata": {
    "id": "07zhBiDN4XG0"
   },
   "source": [
    "#### Import numpy, matplotlib.pyplot and make it inline"
   ]
  },
  {
   "cell_type": "code",
   "execution_count": 31,
   "metadata": {
    "id": "GOzbVpMC4XG1"
   },
   "outputs": [],
   "source": [
    "import pandas as pd\n",
    "import numpy as np\n",
    "import matplotlib.pyplot as plt\n",
    "%matplotlib inline"
   ]
  },
  {
   "cell_type": "markdown",
   "metadata": {
    "id": "XmUhMrXD4XG2"
   },
   "source": [
    "#### Read RegData csv file into numpy array  (check your data)\n",
    "##### Data source\n",
    "https://college.cengage.com/mathematics/brase/understandable_statistics/7e/students/datasets/slr/frames/frame.html\n"
   ]
  },
  {
   "cell_type": "code",
   "execution_count": 84,
   "metadata": {},
   "outputs": [
    {
     "data": {
      "text/html": [
       "<div>\n",
       "<style scoped>\n",
       "    .dataframe tbody tr th:only-of-type {\n",
       "        vertical-align: middle;\n",
       "    }\n",
       "\n",
       "    .dataframe tbody tr th {\n",
       "        vertical-align: top;\n",
       "    }\n",
       "\n",
       "    .dataframe thead th {\n",
       "        text-align: right;\n",
       "    }\n",
       "</style>\n",
       "<table border=\"1\" class=\"dataframe\">\n",
       "  <thead>\n",
       "    <tr style=\"text-align: right;\">\n",
       "      <th></th>\n",
       "      <th>2.900000095</th>\n",
       "      <th>4</th>\n",
       "    </tr>\n",
       "  </thead>\n",
       "  <tbody>\n",
       "    <tr>\n",
       "      <th>0</th>\n",
       "      <td>6.7</td>\n",
       "      <td>7.4</td>\n",
       "    </tr>\n",
       "    <tr>\n",
       "      <th>1</th>\n",
       "      <td>4.9</td>\n",
       "      <td>5.0</td>\n",
       "    </tr>\n",
       "    <tr>\n",
       "      <th>2</th>\n",
       "      <td>7.9</td>\n",
       "      <td>7.2</td>\n",
       "    </tr>\n",
       "    <tr>\n",
       "      <th>3</th>\n",
       "      <td>9.8</td>\n",
       "      <td>7.9</td>\n",
       "    </tr>\n",
       "    <tr>\n",
       "      <th>4</th>\n",
       "      <td>6.9</td>\n",
       "      <td>6.1</td>\n",
       "    </tr>\n",
       "    <tr>\n",
       "      <th>5</th>\n",
       "      <td>6.1</td>\n",
       "      <td>6.0</td>\n",
       "    </tr>\n",
       "    <tr>\n",
       "      <th>6</th>\n",
       "      <td>6.2</td>\n",
       "      <td>5.8</td>\n",
       "    </tr>\n",
       "    <tr>\n",
       "      <th>7</th>\n",
       "      <td>6.0</td>\n",
       "      <td>5.2</td>\n",
       "    </tr>\n",
       "    <tr>\n",
       "      <th>8</th>\n",
       "      <td>5.1</td>\n",
       "      <td>4.2</td>\n",
       "    </tr>\n",
       "    <tr>\n",
       "      <th>9</th>\n",
       "      <td>4.7</td>\n",
       "      <td>4.0</td>\n",
       "    </tr>\n",
       "    <tr>\n",
       "      <th>10</th>\n",
       "      <td>4.4</td>\n",
       "      <td>4.4</td>\n",
       "    </tr>\n",
       "    <tr>\n",
       "      <th>11</th>\n",
       "      <td>5.8</td>\n",
       "      <td>5.2</td>\n",
       "    </tr>\n",
       "  </tbody>\n",
       "</table>\n",
       "</div>"
      ],
      "text/plain": [
       "    2.900000095    4\n",
       "0           6.7  7.4\n",
       "1           4.9  5.0\n",
       "2           7.9  7.2\n",
       "3           9.8  7.9\n",
       "4           6.9  6.1\n",
       "5           6.1  6.0\n",
       "6           6.2  5.8\n",
       "7           6.0  5.2\n",
       "8           5.1  4.2\n",
       "9           4.7  4.0\n",
       "10          4.4  4.4\n",
       "11          5.8  5.2"
      ]
     },
     "execution_count": 84,
     "metadata": {},
     "output_type": "execute_result"
    }
   ],
   "source": [
    "df = pd.read_csv('RegData.csv')\n",
    "df"
   ]
  },
  {
   "cell_type": "code",
   "execution_count": 85,
   "metadata": {
    "id": "75U14-e84XG3"
   },
   "outputs": [
    {
     "data": {
      "text/plain": [
       "array([[2.9000001 , 4.        ],\n",
       "       [6.69999981, 7.4000001 ],\n",
       "       [4.9000001 , 5.        ],\n",
       "       [7.9000001 , 7.19999981],\n",
       "       [9.80000019, 7.9000001 ],\n",
       "       [6.9000001 , 6.0999999 ],\n",
       "       [6.0999999 , 6.        ],\n",
       "       [6.19999981, 5.80000019],\n",
       "       [6.        , 5.19999981],\n",
       "       [5.0999999 , 4.19999981],\n",
       "       [4.69999981, 4.        ],\n",
       "       [4.4000001 , 4.4000001 ],\n",
       "       [5.80000019, 5.19999981]])"
      ]
     },
     "execution_count": 85,
     "metadata": {},
     "output_type": "execute_result"
    }
   ],
   "source": [
    "# Create array from tabular Data using Numpy.genfromtxt() function\n",
    "\n",
    "from numpy import genfromtxt\n",
    "arr = genfromtxt(\"RegData.csv\",delimiter=\",\")\n",
    "arr"
   ]
  },
  {
   "cell_type": "markdown",
   "metadata": {
    "id": "y5PDTnH-4XG4"
   },
   "source": [
    "#### Explore your data"
   ]
  },
  {
   "cell_type": "code",
   "execution_count": 86,
   "metadata": {},
   "outputs": [
    {
     "data": {
      "text/plain": [
       "(13, 2)"
      ]
     },
     "execution_count": 86,
     "metadata": {},
     "output_type": "execute_result"
    }
   ],
   "source": [
    "arr.shape"
   ]
  },
  {
   "cell_type": "markdown",
   "metadata": {
    "id": "-bLq0e__4XG8"
   },
   "source": [
    "#### Define variables X and y. Assign first column data to X and second column to y\n",
    "<b>Note:</b> X is the independent variable (input to LR model) and y is the dependent variable (output)"
   ]
  },
  {
   "cell_type": "code",
   "execution_count": 87,
   "metadata": {},
   "outputs": [
    {
     "data": {
      "text/plain": [
       "array([2.9000001 , 6.69999981, 4.9000001 , 7.9000001 , 9.80000019,\n",
       "       6.9000001 , 6.0999999 , 6.19999981, 6.        , 5.0999999 ,\n",
       "       4.69999981, 4.4000001 , 5.80000019])"
      ]
     },
     "execution_count": 87,
     "metadata": {},
     "output_type": "execute_result"
    }
   ],
   "source": [
    "X, Y = genfromtxt(\"RegData.csv\",delimiter=\",\", unpack=True)\n",
    "X"
   ]
  },
  {
   "cell_type": "code",
   "execution_count": 88,
   "metadata": {},
   "outputs": [
    {
     "data": {
      "text/plain": [
       "array([4.        , 7.4000001 , 5.        , 7.19999981, 7.9000001 ,\n",
       "       6.0999999 , 6.        , 5.80000019, 5.19999981, 4.19999981,\n",
       "       4.        , 4.4000001 , 5.19999981])"
      ]
     },
     "execution_count": 88,
     "metadata": {},
     "output_type": "execute_result"
    }
   ],
   "source": [
    "Y"
   ]
  },
  {
   "cell_type": "markdown",
   "metadata": {
    "id": "n9EcHGr54XG-"
   },
   "source": [
    "#### Explore your data"
   ]
  },
  {
   "cell_type": "code",
   "execution_count": 89,
   "metadata": {
    "id": "W2u5VIcv4XG_"
   },
   "outputs": [
    {
     "name": "stdout",
     "output_type": "stream",
     "text": [
      "5.953846161076923\n",
      "5.56923073976923\n"
     ]
    }
   ],
   "source": [
    "print(X.mean())\n",
    "print(Y.mean())"
   ]
  },
  {
   "cell_type": "code",
   "execution_count": 90,
   "metadata": {
    "id": "aHoQeiq-4XHA",
    "scrolled": true
   },
   "outputs": [
    {
     "name": "stdout",
     "output_type": "stream",
     "text": [
      "Variable     Type         Data/Info\n",
      "-----------------------------------\n",
      "X            ndarray      13: 13 elems, type `float64`, 104 bytes\n",
      "Y            ndarray      13: 13 elems, type `float64`, 104 bytes\n",
      "arr          ndarray      13x2: 26 elems, type `float64`, 208 bytes\n",
      "df           DataFrame        2.900000095    4\\n0  <...>4.4\\n11          5.8  5.2\n",
      "df2          ndarray      13x2: 26 elems, type `float64`, 208 bytes\n",
      "df3          DataFrame          X    Y\\n0   2.9  4.<...>1  4.4  4.4\\n12  5.8  5.2\n",
      "genfromtxt   function     <function genfromtxt at 0x00000204E7394790>\n",
      "np           module       <module 'numpy' from 'C:\\<...>ges\\\\numpy\\\\__init__.py'>\n",
      "pd           module       <module 'pandas' from 'C:<...>es\\\\pandas\\\\__init__.py'>\n",
      "plt          module       <module 'matplotlib.pyplo<...>\\\\matplotlib\\\\pyplot.py'>\n"
     ]
    }
   ],
   "source": [
    "%whos"
   ]
  },
  {
   "cell_type": "markdown",
   "metadata": {
    "id": "_7a_3gvu4XHA"
   },
   "source": [
    "#### Plot the original data (scatter plot of X,y)"
   ]
  },
  {
   "cell_type": "code",
   "execution_count": 91,
   "metadata": {},
   "outputs": [
    {
     "data": {
      "text/html": [
       "<div>\n",
       "<style scoped>\n",
       "    .dataframe tbody tr th:only-of-type {\n",
       "        vertical-align: middle;\n",
       "    }\n",
       "\n",
       "    .dataframe tbody tr th {\n",
       "        vertical-align: top;\n",
       "    }\n",
       "\n",
       "    .dataframe thead th {\n",
       "        text-align: right;\n",
       "    }\n",
       "</style>\n",
       "<table border=\"1\" class=\"dataframe\">\n",
       "  <thead>\n",
       "    <tr style=\"text-align: right;\">\n",
       "      <th></th>\n",
       "      <th>X</th>\n",
       "      <th>Y</th>\n",
       "    </tr>\n",
       "  </thead>\n",
       "  <tbody>\n",
       "    <tr>\n",
       "      <th>0</th>\n",
       "      <td>2.9</td>\n",
       "      <td>4.0</td>\n",
       "    </tr>\n",
       "    <tr>\n",
       "      <th>1</th>\n",
       "      <td>6.7</td>\n",
       "      <td>7.4</td>\n",
       "    </tr>\n",
       "    <tr>\n",
       "      <th>2</th>\n",
       "      <td>4.9</td>\n",
       "      <td>5.0</td>\n",
       "    </tr>\n",
       "    <tr>\n",
       "      <th>3</th>\n",
       "      <td>7.9</td>\n",
       "      <td>7.2</td>\n",
       "    </tr>\n",
       "    <tr>\n",
       "      <th>4</th>\n",
       "      <td>9.8</td>\n",
       "      <td>7.9</td>\n",
       "    </tr>\n",
       "    <tr>\n",
       "      <th>5</th>\n",
       "      <td>6.9</td>\n",
       "      <td>6.1</td>\n",
       "    </tr>\n",
       "    <tr>\n",
       "      <th>6</th>\n",
       "      <td>6.1</td>\n",
       "      <td>6.0</td>\n",
       "    </tr>\n",
       "    <tr>\n",
       "      <th>7</th>\n",
       "      <td>6.2</td>\n",
       "      <td>5.8</td>\n",
       "    </tr>\n",
       "    <tr>\n",
       "      <th>8</th>\n",
       "      <td>6.0</td>\n",
       "      <td>5.2</td>\n",
       "    </tr>\n",
       "    <tr>\n",
       "      <th>9</th>\n",
       "      <td>5.1</td>\n",
       "      <td>4.2</td>\n",
       "    </tr>\n",
       "    <tr>\n",
       "      <th>10</th>\n",
       "      <td>4.7</td>\n",
       "      <td>4.0</td>\n",
       "    </tr>\n",
       "    <tr>\n",
       "      <th>11</th>\n",
       "      <td>4.4</td>\n",
       "      <td>4.4</td>\n",
       "    </tr>\n",
       "    <tr>\n",
       "      <th>12</th>\n",
       "      <td>5.8</td>\n",
       "      <td>5.2</td>\n",
       "    </tr>\n",
       "  </tbody>\n",
       "</table>\n",
       "</div>"
      ],
      "text/plain": [
       "      X    Y\n",
       "0   2.9  4.0\n",
       "1   6.7  7.4\n",
       "2   4.9  5.0\n",
       "3   7.9  7.2\n",
       "4   9.8  7.9\n",
       "5   6.9  6.1\n",
       "6   6.1  6.0\n",
       "7   6.2  5.8\n",
       "8   6.0  5.2\n",
       "9   5.1  4.2\n",
       "10  4.7  4.0\n",
       "11  4.4  4.4\n",
       "12  5.8  5.2"
      ]
     },
     "execution_count": 91,
     "metadata": {},
     "output_type": "execute_result"
    }
   ],
   "source": [
    "df = pd.DataFrame(arr, columns=['X', 'Y'])\n",
    "df"
   ]
  },
  {
   "cell_type": "code",
   "execution_count": 99,
   "metadata": {},
   "outputs": [
    {
     "data": {
      "image/png": "[encoded data removed]",
      "text/plain": [
       "<Figure size 432x288 with 1 Axes>"
      ]
     },
     "metadata": {
      "needs_background": "light"
     },
     "output_type": "display_data"
    }
   ],
   "source": [
    "plt.scatter(data=df, x='X', y='Y');\n",
    "plt.xlabel('X', fontsize=12, fontweight='bold')\n",
    "plt.ylabel('Y', fontsize=12, fontweight='bold')\n",
    "plt.xticks(fontsize=8, fontweight='bold');\n",
    "plt.yticks(fontsize=8, fontweight='bold');\n",
    "plt.show()"
   ]
  },
  {
   "cell_type": "markdown",
   "metadata": {
    "id": "6erXIkTc4XHC"
   },
   "source": [
    "## LR Full Implementation"
   ]
  },
  {
   "cell_type": "markdown",
   "metadata": {
    "id": "v3MRdE4h4XHD"
   },
   "source": [
    "### Step1: Initialize parameters (theta_0 & theta_1) with random value or simply zero. Also choose the Learning rate. "
   ]
  },
  {
   "cell_type": "markdown",
   "metadata": {
    "id": "WcwP3fQW4XHD"
   },
   "source": [
    "![image.png](attachment:image.png)"
   ]
  },
  {
   "cell_type": "code",
   "execution_count": null,
   "metadata": {
    "id": "-_CmxoE54XHD"
   },
   "outputs": [],
   "source": []
  },
  {
   "cell_type": "markdown",
   "metadata": {
    "id": "3Myn2-O34XHE"
   },
   "source": [
    "### Step2: Use (theta_0 & theta_1) to predict the output h(x)= theta_0 + theta_1 * x.![image.png](attachment:image.png)\n",
    "#### Note: you will need to iterate through all data points"
   ]
  },
  {
   "cell_type": "code",
   "execution_count": null,
   "metadata": {
    "id": "6QP1tenQ4XHE"
   },
   "outputs": [],
   "source": []
  },
  {
   "cell_type": "markdown",
   "metadata": {
    "id": "09HxuA2F4XHF"
   },
   "source": [
    "### Step3: Calculate Cost function 𝑱(theta_0,theta_1 ).![image.png](attachment:image.png)\n",
    "![image-2.png](attachment:image-2.png)"
   ]
  },
  {
   "cell_type": "code",
   "execution_count": null,
   "metadata": {
    "id": "NWa0tGox4XHF"
   },
   "outputs": [],
   "source": []
  },
  {
   "cell_type": "markdown",
   "metadata": {
    "id": "hUK8zwuJ4XHG"
   },
   "source": [
    "### Step4: Calculate the gradient.![image.png](attachment:image.png)\n",
    "![image-2.png](attachment:image-2.png)"
   ]
  },
  {
   "cell_type": "code",
   "execution_count": null,
   "metadata": {
    "id": "JO8apkWg4XHG"
   },
   "outputs": [],
   "source": []
  },
  {
   "cell_type": "markdown",
   "metadata": {
    "id": "Vb92sQFU4XHG"
   },
   "source": [
    "### Step5: Update the parameters (simultaneously).![image.png](attachment:image.png)\n",
    "![image-2.png](attachment:image-2.png)"
   ]
  },
  {
   "cell_type": "code",
   "execution_count": null,
   "metadata": {
    "id": "k2BxJtwt4XHH"
   },
   "outputs": [],
   "source": []
  },
  {
   "cell_type": "markdown",
   "metadata": {
    "id": "Hmj6q53Z4XHH"
   },
   "source": [
    "### Step6: Repeat from 2 to 5 until converge to the minimum or achieve maximum iterations.![image.png](attachment:image.png)"
   ]
  },
  {
   "cell_type": "code",
   "execution_count": null,
   "metadata": {
    "id": "PGy07q8v4XHH"
   },
   "outputs": [],
   "source": []
  },
  {
   "cell_type": "markdown",
   "metadata": {
    "id": "hpOCROe44XHI"
   },
   "source": [
    "#### Predict y values using the LR equation\n",
    "##### h(x)= theta_0 + theta_1 * x"
   ]
  },
  {
   "cell_type": "code",
   "execution_count": null,
   "metadata": {
    "id": "In0FEQwJ4XHI"
   },
   "outputs": [],
   "source": []
  },
  {
   "cell_type": "markdown",
   "metadata": {
    "id": "r4e5iH8E4XHI"
   },
   "source": [
    "#### Plot  LR equation output (fitted line) with the original data (scatter plot of X,y)"
   ]
  },
  {
   "cell_type": "code",
   "execution_count": null,
   "metadata": {
    "id": "7DRMmXBh4XHI",
    "scrolled": false
   },
   "outputs": [],
   "source": []
  },
  {
   "cell_type": "markdown",
   "metadata": {
    "id": "HQK1e3zu4XHJ"
   },
   "source": [
    "#### Use R2 score to evaluate LR equation output\n",
    "![image.png](attachment:image.png)\n",
    "![image-2.png](attachment:image-2.png)\n",
    "![image-3.png](attachment:image-3.png)\n",
    "https://en.wikipedia.org/wiki/Coefficient_of_determination"
   ]
  },
  {
   "cell_type": "code",
   "execution_count": null,
   "metadata": {
    "id": "5nFmIyhH4XHJ"
   },
   "outputs": [],
   "source": []
  },
  {
   "cell_type": "markdown",
   "metadata": {
    "id": "GETBX-Lj4XHJ"
   },
   "source": [
    "## GD vectorize Implementation\n",
    "### Implement GD without iterate through data points i.e. use vector operations"
   ]
  },
  {
   "cell_type": "code",
   "execution_count": null,
   "metadata": {
    "id": "RVWqEfRp4XHK"
   },
   "outputs": [],
   "source": []
  },
  {
   "cell_type": "markdown",
   "metadata": {
    "id": "CXPsaH8_4XHK"
   },
   "source": [
    "#### Plot the output and calculate R2 score\n",
    "##### Make sure that you obtained the same results"
   ]
  },
  {
   "cell_type": "code",
   "execution_count": null,
   "metadata": {
    "id": "yND9C7Zl4XHK"
   },
   "outputs": [],
   "source": []
  },
  {
   "cell_type": "code",
   "execution_count": null,
   "metadata": {
    "id": "CHbRar-64XHK"
   },
   "outputs": [],
   "source": []
  },
  {
   "cell_type": "code",
   "execution_count": null,
   "metadata": {
    "id": "3xCDfg7R4XHL"
   },
   "outputs": [],
   "source": []
  },
  {
   "cell_type": "markdown",
   "metadata": {
    "id": "9aMsYDAX4XHL"
   },
   "source": [
    "## Plot loss function\n",
    "### Repeat your last vectorized implementaion version and save loss for each iteration (epoch)"
   ]
  },
  {
   "cell_type": "code",
   "execution_count": null,
   "metadata": {
    "id": "3q-md8du4XHL"
   },
   "outputs": [],
   "source": []
  },
  {
   "cell_type": "markdown",
   "metadata": {
    "id": "8bLhJ_Sr4XHL"
   },
   "source": [
    "### Plot loss vs. iterations"
   ]
  },
  {
   "cell_type": "code",
   "execution_count": null,
   "metadata": {
    "id": "fRDmbVXx4XHL"
   },
   "outputs": [],
   "source": []
  },
  {
   "cell_type": "markdown",
   "metadata": {
    "id": "9lrHZS3I4XHM"
   },
   "source": [
    "## Multivariate LR"
   ]
  },
  {
   "cell_type": "markdown",
   "metadata": {
    "id": "YfBhc3qf4XHM"
   },
   "source": [
    "#### Read MultipleLR csv file into numpy array  (check your data)\n",
    "##### Data source\n",
    "https://college.cengage.com/mathematics/brase/understandable_statistics/7e/students/datasets/slr/frames/frame.html\n"
   ]
  },
  {
   "cell_type": "code",
   "execution_count": null,
   "metadata": {
    "id": "eb8NPQU84XHM"
   },
   "outputs": [],
   "source": []
  },
  {
   "cell_type": "code",
   "execution_count": null,
   "metadata": {
    "id": "XuwnNe8K4XHM"
   },
   "outputs": [],
   "source": []
  },
  {
   "cell_type": "code",
   "execution_count": null,
   "metadata": {
    "id": "PlsO5BeZ4XHM"
   },
   "outputs": [],
   "source": []
  },
  {
   "cell_type": "code",
   "execution_count": null,
   "metadata": {
    "id": "HedKrqpz4XHN"
   },
   "outputs": [],
   "source": []
  },
  {
   "cell_type": "code",
   "execution_count": null,
   "metadata": {
    "id": "6reKzJ9_4XHN"
   },
   "outputs": [],
   "source": []
  },
  {
   "cell_type": "markdown",
   "metadata": {
    "id": "GU8VenTA4XHN"
   },
   "source": [
    "### Repeat your implementation but for more than one variable"
   ]
  },
  {
   "cell_type": "code",
   "execution_count": null,
   "metadata": {
    "id": "QSSPG46W4XHN"
   },
   "outputs": [],
   "source": []
  },
  {
   "cell_type": "markdown",
   "metadata": {
    "id": "iIPoy12g4XHN"
   },
   "source": [
    "#### Predict y values using the LR equation\n",
    "##### h(x)= theta_0 + theta_1 * x1 + theta_2 * x2 + theta_3 * x3"
   ]
  },
  {
   "cell_type": "code",
   "execution_count": null,
   "metadata": {
    "id": "As71prp64XHO"
   },
   "outputs": [],
   "source": []
  },
  {
   "cell_type": "markdown",
   "metadata": {
    "id": "Q0wWLedQ4XHO"
   },
   "source": [
    "### Plot loss vs. iterations"
   ]
  },
  {
   "cell_type": "code",
   "execution_count": null,
   "metadata": {
    "id": "yNJHYf4d4XHO",
    "scrolled": false
   },
   "outputs": [],
   "source": []
  },
  {
   "cell_type": "markdown",
   "metadata": {
    "id": "kAEh9fwn4XHO"
   },
   "source": [
    "#### Use R2 score to evaluate LR equation output"
   ]
  },
  {
   "cell_type": "code",
   "execution_count": null,
   "metadata": {
    "id": "6BlFOKGT4XHO"
   },
   "outputs": [],
   "source": []
  },
  {
   "cell_type": "markdown",
   "metadata": {
    "id": "3nxB1JfC4XHP"
   },
   "source": [
    "# Bonus\n",
    "## LR Using sklearn"
   ]
  },
  {
   "cell_type": "markdown",
   "metadata": {
    "id": "zBhbG-Rn4XHP"
   },
   "source": [
    "### Single Variable"
   ]
  },
  {
   "cell_type": "markdown",
   "metadata": {
    "id": "nfWdgn2B4XHP"
   },
   "source": [
    "#### Build a LR model usin linearmodel.LinearRegression() from sklearn library"
   ]
  },
  {
   "cell_type": "code",
   "execution_count": null,
   "metadata": {
    "id": "Z4TqfNkL4XHP"
   },
   "outputs": [],
   "source": []
  },
  {
   "cell_type": "code",
   "execution_count": null,
   "metadata": {
    "id": "iS32FGMt4XHP"
   },
   "outputs": [],
   "source": []
  },
  {
   "cell_type": "markdown",
   "metadata": {
    "id": "1h1LBaZ04XHP"
   },
   "source": [
    "#### Train the model (fit the model to the training data)"
   ]
  },
  {
   "cell_type": "code",
   "execution_count": null,
   "metadata": {
    "id": "t5txTdsF4XHQ",
    "scrolled": true
   },
   "outputs": [],
   "source": []
  },
  {
   "cell_type": "markdown",
   "metadata": {
    "id": "AT7dlHrr4XHQ"
   },
   "source": [
    "#### Predict y values using the trained model"
   ]
  },
  {
   "cell_type": "code",
   "execution_count": null,
   "metadata": {
    "id": "_o3a13qr4XHQ"
   },
   "outputs": [],
   "source": []
  },
  {
   "cell_type": "markdown",
   "metadata": {
    "id": "Fhguz-M44XHQ"
   },
   "source": [
    "#### Plot model output (fitted line) with the original data (scatter plot of X,y)"
   ]
  },
  {
   "cell_type": "code",
   "execution_count": null,
   "metadata": {
    "id": "OE_bn6fF4XHQ"
   },
   "outputs": [],
   "source": []
  },
  {
   "cell_type": "markdown",
   "metadata": {
    "id": "Ll7pleAP4XHQ"
   },
   "source": [
    "#### Use R2 score to evaluate model output"
   ]
  },
  {
   "cell_type": "code",
   "execution_count": null,
   "metadata": {
    "id": "RMqI52XH4XHQ"
   },
   "outputs": [],
   "source": []
  },
  {
   "cell_type": "code",
   "execution_count": null,
   "metadata": {
    "id": "3piUSk2T4XHQ"
   },
   "outputs": [],
   "source": []
  },
  {
   "cell_type": "markdown",
   "metadata": {
    "id": "Wo3dlEne4XHR"
   },
   "source": [
    "### Repeat for Mulivariate"
   ]
  },
  {
   "cell_type": "code",
   "execution_count": null,
   "metadata": {
    "id": "AxWIwSNr4XHR"
   },
   "outputs": [],
   "source": []
  }
 ],
 "metadata": {
  "colab": {
   "name": "Practical Session 1 GD Implementation for LR .ipynb",
   "provenance": []
  },
  "kernelspec": {
   "display_name": "Python 3",
   "language": "python",
   "name": "python3"
  },
  "language_info": {
   "codemirror_mode": {
    "name": "ipython",
    "version": 3
   },
   "file_extension": ".py",
   "mimetype": "text/x-python",
   "name": "python",
   "nbconvert_exporter": "python",
   "pygments_lexer": "ipython3",
   "version": "3.8.5"
  }
 },
 "nbformat": 4,
 "nbformat_minor": 1
}
