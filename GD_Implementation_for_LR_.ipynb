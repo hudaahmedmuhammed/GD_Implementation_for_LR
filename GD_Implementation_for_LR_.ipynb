{
 "cells": [
  {
   "cell_type": "markdown",
   "metadata": {
    "id": "Pq6oxdpA4XGs"
   },
   "source": [
    "## Practical Work 1"
   ]
  },
  {
   "cell_type": "markdown",
   "metadata": {
    "id": "yFJ3Zagv4XGy"
   },
   "source": [
    "For this practical work, the student will have to develop a Python program that is able to implement the gradient descent in order to achieve the linear regression of a set of datapoints."
   ]
  },
  {
   "cell_type": "markdown",
   "metadata": {
    "id": "07zhBiDN4XG0"
   },
   "source": [
    "#### Import numpy, matplotlib.pyplot and make it inline"
   ]
  },
  {
   "cell_type": "code",
   "execution_count": 1,
   "metadata": {
    "id": "GOzbVpMC4XG1"
   },
   "outputs": [],
   "source": [
    "import pandas as pd\n",
    "import numpy as np\n",
    "import matplotlib.pyplot as plt\n",
    "%matplotlib inline"
   ]
  },
  {
   "cell_type": "markdown",
   "metadata": {
    "id": "XmUhMrXD4XG2"
   },
   "source": [
    "#### Read RegData csv file into numpy array  (check your data)\n",
    "##### Data source\n",
    "https://college.cengage.com/mathematics/brase/understandable_statistics/7e/students/datasets/slr/frames/frame.html\n"
   ]
  },
  {
   "cell_type": "code",
   "execution_count": 2,
   "metadata": {
    "id": "75U14-e84XG3"
   },
   "outputs": [
    {
     "data": {
      "text/plain": [
       "array([[2.9000001 , 4.        ],\n",
       "       [6.69999981, 7.4000001 ],\n",
       "       [4.9000001 , 5.        ],\n",
       "       [7.9000001 , 7.19999981],\n",
       "       [9.80000019, 7.9000001 ],\n",
       "       [6.9000001 , 6.0999999 ],\n",
       "       [6.0999999 , 6.        ],\n",
       "       [6.19999981, 5.80000019],\n",
       "       [6.        , 5.19999981],\n",
       "       [5.0999999 , 4.19999981],\n",
       "       [4.69999981, 4.        ],\n",
       "       [4.4000001 , 4.4000001 ],\n",
       "       [5.80000019, 5.19999981]])"
      ]
     },
     "execution_count": 2,
     "metadata": {},
     "output_type": "execute_result"
    }
   ],
   "source": [
    "# Create array from tabular Data using Numpy.genfromtxt() function\n",
    "\n",
    "from numpy import genfromtxt\n",
    "df = genfromtxt(\"RegData.csv\",delimiter=\",\")\n",
    "df"
   ]
  },
  {
   "cell_type": "markdown",
   "metadata": {
    "id": "y5PDTnH-4XG4"
   },
   "source": [
    "#### Explore your data"
   ]
  },
  {
   "cell_type": "code",
   "execution_count": 3,
   "metadata": {},
   "outputs": [
    {
     "data": {
      "text/plain": [
       "(13, 2)"
      ]
     },
     "execution_count": 3,
     "metadata": {},
     "output_type": "execute_result"
    }
   ],
   "source": [
    "df.shape"
   ]
  },
  {
   "cell_type": "markdown",
   "metadata": {
    "id": "-bLq0e__4XG8"
   },
   "source": [
    "#### Define variables X and y. Assign first column data to X and second column to y\n",
    "<b>Note:</b> X is the independent variable (input to LR model) and y is the dependent variable (output)"
   ]
  },
  {
   "cell_type": "code",
   "execution_count": 4,
   "metadata": {},
   "outputs": [],
   "source": [
    "X, Y = genfromtxt(\"RegData.csv\",delimiter=\",\", unpack=True)"
   ]
  },
  {
   "cell_type": "markdown",
   "metadata": {
    "id": "n9EcHGr54XG-"
   },
   "source": [
    "#### Explore your data"
   ]
  },
  {
   "cell_type": "code",
   "execution_count": 5,
   "metadata": {},
   "outputs": [
    {
     "data": {
      "text/plain": [
       "array([2.9000001 , 6.69999981, 4.9000001 , 7.9000001 , 9.80000019,\n",
       "       6.9000001 , 6.0999999 , 6.19999981, 6.        , 5.0999999 ,\n",
       "       4.69999981, 4.4000001 , 5.80000019])"
      ]
     },
     "execution_count": 5,
     "metadata": {},
     "output_type": "execute_result"
    }
   ],
   "source": [
    "X"
   ]
  },
  {
   "cell_type": "code",
   "execution_count": 6,
   "metadata": {},
   "outputs": [
    {
     "data": {
      "text/plain": [
       "array([4.        , 7.4000001 , 5.        , 7.19999981, 7.9000001 ,\n",
       "       6.0999999 , 6.        , 5.80000019, 5.19999981, 4.19999981,\n",
       "       4.        , 4.4000001 , 5.19999981])"
      ]
     },
     "execution_count": 6,
     "metadata": {},
     "output_type": "execute_result"
    }
   ],
   "source": [
    "Y"
   ]
  },
  {
   "cell_type": "code",
   "execution_count": 7,
   "metadata": {
    "id": "W2u5VIcv4XG_"
   },
   "outputs": [
    {
     "name": "stdout",
     "output_type": "stream",
     "text": [
      "5.953846161076923\n",
      "5.56923073976923\n"
     ]
    }
   ],
   "source": [
    "print(X.mean())\n",
    "print(Y.mean())"
   ]
  },
  {
   "cell_type": "markdown",
   "metadata": {
    "id": "_7a_3gvu4XHA"
   },
   "source": [
    "#### Plot the original data (scatter plot of X,y)"
   ]
  },
  {
   "cell_type": "code",
   "execution_count": 8,
   "metadata": {},
   "outputs": [
    {
     "data": {
      "text/html": [
       "<div>\n",
       "<style scoped>\n",
       "    .dataframe tbody tr th:only-of-type {\n",
       "        vertical-align: middle;\n",
       "    }\n",
       "\n",
       "    .dataframe tbody tr th {\n",
       "        vertical-align: top;\n",
       "    }\n",
       "\n",
       "    .dataframe thead th {\n",
       "        text-align: right;\n",
       "    }\n",
       "</style>\n",
       "<table border=\"1\" class=\"dataframe\">\n",
       "  <thead>\n",
       "    <tr style=\"text-align: right;\">\n",
       "      <th></th>\n",
       "      <th>X</th>\n",
       "      <th>Y</th>\n",
       "    </tr>\n",
       "  </thead>\n",
       "  <tbody>\n",
       "    <tr>\n",
       "      <th>0</th>\n",
       "      <td>2.9</td>\n",
       "      <td>4.0</td>\n",
       "    </tr>\n",
       "    <tr>\n",
       "      <th>1</th>\n",
       "      <td>6.7</td>\n",
       "      <td>7.4</td>\n",
       "    </tr>\n",
       "    <tr>\n",
       "      <th>2</th>\n",
       "      <td>4.9</td>\n",
       "      <td>5.0</td>\n",
       "    </tr>\n",
       "    <tr>\n",
       "      <th>3</th>\n",
       "      <td>7.9</td>\n",
       "      <td>7.2</td>\n",
       "    </tr>\n",
       "    <tr>\n",
       "      <th>4</th>\n",
       "      <td>9.8</td>\n",
       "      <td>7.9</td>\n",
       "    </tr>\n",
       "    <tr>\n",
       "      <th>5</th>\n",
       "      <td>6.9</td>\n",
       "      <td>6.1</td>\n",
       "    </tr>\n",
       "    <tr>\n",
       "      <th>6</th>\n",
       "      <td>6.1</td>\n",
       "      <td>6.0</td>\n",
       "    </tr>\n",
       "    <tr>\n",
       "      <th>7</th>\n",
       "      <td>6.2</td>\n",
       "      <td>5.8</td>\n",
       "    </tr>\n",
       "    <tr>\n",
       "      <th>8</th>\n",
       "      <td>6.0</td>\n",
       "      <td>5.2</td>\n",
       "    </tr>\n",
       "    <tr>\n",
       "      <th>9</th>\n",
       "      <td>5.1</td>\n",
       "      <td>4.2</td>\n",
       "    </tr>\n",
       "    <tr>\n",
       "      <th>10</th>\n",
       "      <td>4.7</td>\n",
       "      <td>4.0</td>\n",
       "    </tr>\n",
       "    <tr>\n",
       "      <th>11</th>\n",
       "      <td>4.4</td>\n",
       "      <td>4.4</td>\n",
       "    </tr>\n",
       "    <tr>\n",
       "      <th>12</th>\n",
       "      <td>5.8</td>\n",
       "      <td>5.2</td>\n",
       "    </tr>\n",
       "  </tbody>\n",
       "</table>\n",
       "</div>"
      ],
      "text/plain": [
       "      X    Y\n",
       "0   2.9  4.0\n",
       "1   6.7  7.4\n",
       "2   4.9  5.0\n",
       "3   7.9  7.2\n",
       "4   9.8  7.9\n",
       "5   6.9  6.1\n",
       "6   6.1  6.0\n",
       "7   6.2  5.8\n",
       "8   6.0  5.2\n",
       "9   5.1  4.2\n",
       "10  4.7  4.0\n",
       "11  4.4  4.4\n",
       "12  5.8  5.2"
      ]
     },
     "execution_count": 8,
     "metadata": {},
     "output_type": "execute_result"
    }
   ],
   "source": [
    "df = pd.DataFrame(df, columns=['X', 'Y'])\n",
    "df"
   ]
  },
  {
   "cell_type": "code",
   "execution_count": 9,
   "metadata": {},
   "outputs": [
    {
     "data": {
      "image/png": "[encoded data removed]",
      "text/plain": [
       "<Figure size 432x288 with 1 Axes>"
      ]
     },
     "metadata": {
      "needs_background": "light"
     },
     "output_type": "display_data"
    }
   ],
   "source": [
    "plt.scatter(data=df, x='X', y='Y');\n",
    "plt.xlabel('X', fontsize=12, fontweight='bold')\n",
    "plt.ylabel('Y', fontsize=12, fontweight='bold')\n",
    "plt.xticks(fontsize=8, fontweight='bold');\n",
    "plt.yticks(fontsize=8, fontweight='bold');\n",
    "plt.show()"
   ]
  },
  {
   "cell_type": "markdown",
   "metadata": {
    "id": "6erXIkTc4XHC"
   },
   "source": [
    "## LR Full Implementation"
   ]
  },
  {
   "cell_type": "markdown",
   "metadata": {
    "id": "v3MRdE4h4XHD"
   },
   "source": [
    "### Step1: Initialize parameters (theta_0 & theta_1) with random value or simply zero. Also choose the Learning rate. "
   ]
  },
  {
   "cell_type": "code",
   "execution_count": 10,
   "metadata": {
    "id": "-_CmxoE54XHD"
   },
   "outputs": [],
   "source": [
    "theta_0, theta_1 = 0, 0\n",
    "L = 0.01   #The Learning Rate "
   ]
  },
  {
   "cell_type": "markdown",
   "metadata": {},
   "source": [
    "### Step2: Use (theta_0 & theta_1) to predict the output h(x)= theta_0 + theta_1 * x.\n",
    "#### Note: you will need to iterate through all data points"
   ]
  },
  {
   "cell_type": "code",
   "execution_count": 11,
   "metadata": {},
   "outputs": [],
   "source": [
    "hx = theta_0 + theta_1 * X  # Hypothesis Function"
   ]
  },
  {
   "cell_type": "code",
   "execution_count": 12,
   "metadata": {},
   "outputs": [
    {
     "data": {
      "text/plain": [
       "array([0., 0., 0., 0., 0., 0., 0., 0., 0., 0., 0., 0., 0.])"
      ]
     },
     "execution_count": 12,
     "metadata": {},
     "output_type": "execute_result"
    }
   ],
   "source": [
    "hx"
   ]
  },
  {
   "cell_type": "markdown",
   "metadata": {
    "id": "09HxuA2F4XHF"
   },
   "source": [
    "### Step3: Calculate Cost function 𝑱(theta_0,theta_1 ).\n"
   ]
  },
  {
   "cell_type": "code",
   "execution_count": 13,
   "metadata": {},
   "outputs": [],
   "source": [
    "m = len(X)  # Number of training examples\n",
    "J = (1/2*m) * (np.sum((hx-Y)**2))  # Cost Function"
   ]
  },
  {
   "cell_type": "code",
   "execution_count": 14,
   "metadata": {},
   "outputs": [
    {
     "data": {
      "text/plain": [
       "2755.6099770680016"
      ]
     },
     "execution_count": 14,
     "metadata": {},
     "output_type": "execute_result"
    }
   ],
   "source": [
    "J"
   ]
  },
  {
   "cell_type": "markdown",
   "metadata": {
    "id": "hUK8zwuJ4XHG"
   },
   "source": [
    "### Step4: Calculate the gradient."
   ]
  },
  {
   "cell_type": "code",
   "execution_count": 15,
   "metadata": {},
   "outputs": [],
   "source": [
    "GD_1 = (1/m) * (np.sum(hx - Y))\n",
    "GD_2 = (1/m) * (np.sum((hx - Y) * X))"
   ]
  },
  {
   "cell_type": "code",
   "execution_count": 16,
   "metadata": {},
   "outputs": [
    {
     "data": {
      "text/plain": [
       "-5.569230739769231"
      ]
     },
     "execution_count": 16,
     "metadata": {},
     "output_type": "execute_result"
    }
   ],
   "source": [
    "GD_1"
   ]
  },
  {
   "cell_type": "code",
   "execution_count": 17,
   "metadata": {},
   "outputs": [
    {
     "data": {
      "text/plain": [
       "-35.043846043215375"
      ]
     },
     "execution_count": 17,
     "metadata": {},
     "output_type": "execute_result"
    }
   ],
   "source": [
    "GD_2"
   ]
  },
  {
   "cell_type": "markdown",
   "metadata": {
    "id": "Vb92sQFU4XHG"
   },
   "source": [
    "### Step5: Update the parameters (simultaneously)."
   ]
  },
  {
   "cell_type": "code",
   "execution_count": 18,
   "metadata": {
    "id": "k2BxJtwt4XHH"
   },
   "outputs": [],
   "source": [
    "theta_0 = theta_0 - L * GD_1\n",
    "theta_1 = theta_1 - L * GD_2"
   ]
  },
  {
   "cell_type": "code",
   "execution_count": 19,
   "metadata": {},
   "outputs": [
    {
     "data": {
      "text/plain": [
       "0.05569230739769231"
      ]
     },
     "execution_count": 19,
     "metadata": {},
     "output_type": "execute_result"
    }
   ],
   "source": [
    "theta_0"
   ]
  },
  {
   "cell_type": "code",
   "execution_count": 20,
   "metadata": {},
   "outputs": [
    {
     "data": {
      "text/plain": [
       "0.35043846043215376"
      ]
     },
     "execution_count": 20,
     "metadata": {},
     "output_type": "execute_result"
    }
   ],
   "source": [
    "theta_1"
   ]
  },
  {
   "cell_type": "markdown",
   "metadata": {
    "id": "Hmj6q53Z4XHH"
   },
   "source": [
    "### Step6: Repeat from 2 to 5 until converge to the minimum or achieve maximum iterations."
   ]
  },
  {
   "cell_type": "code",
   "execution_count": 21,
   "metadata": {
    "id": "PGy07q8v4XHH"
   },
   "outputs": [],
   "source": [
    "epochs = 1000  # Number of Iterations\n",
    "cost = []\n",
    "for i in range(epochs):\n",
    "    hx = theta_0 + theta_1 * X\n",
    "    J = (1/2*m) * (np.sum((hx-Y)**2))\n",
    "    cost.append(J)\n",
    "    GD_1 = (1/m) * (np.sum(hx - Y))\n",
    "    GD_2 = (1/m) * (np.sum((hx - Y) * X))\n",
    "    theta_0 = theta_0 - L * GD_1\n",
    "    theta_1 = theta_1 - L * GD_2"
   ]
  },
  {
   "cell_type": "markdown",
   "metadata": {
    "id": "hpOCROe44XHI"
   },
   "source": [
    "#### Predict y values using the LR equation\n",
    "##### h(x)= theta_0 + theta_1 * x"
   ]
  },
  {
   "cell_type": "code",
   "execution_count": 22,
   "metadata": {
    "id": "In0FEQwJ4XHI"
   },
   "outputs": [],
   "source": [
    "pred_y = theta_0 + theta_1 * X"
   ]
  },
  {
   "cell_type": "code",
   "execution_count": 23,
   "metadata": {},
   "outputs": [
    {
     "data": {
      "text/plain": [
       "array([3.09530063, 6.11791068, 4.68614814, 7.07241941, 8.58372462,\n",
       "       6.27699566, 5.6406565 , 5.7201988 , 5.5611142 , 4.84523274,\n",
       "       4.52706317, 4.28843627, 5.4020296 ])"
      ]
     },
     "execution_count": 23,
     "metadata": {},
     "output_type": "execute_result"
    }
   ],
   "source": [
    "pred_y"
   ]
  },
  {
   "cell_type": "markdown",
   "metadata": {
    "id": "r4e5iH8E4XHI"
   },
   "source": [
    "#### Plot  LR equation output (fitted line) with the original data (scatter plot of X,y)"
   ]
  },
  {
   "cell_type": "code",
   "execution_count": 24,
   "metadata": {
    "id": "7DRMmXBh4XHI",
    "scrolled": false
   },
   "outputs": [
    {
     "data": {
      "image/png": "[encoded data removed]",
      "text/plain": [
       "<Figure size 432x288 with 1 Axes>"
      ]
     },
     "metadata": {
      "needs_background": "light"
     },
     "output_type": "display_data"
    }
   ],
   "source": [
    "plt.scatter(data=df, x='X', y='Y', label='Original Y')\n",
    "plt.plot(X, pred_y, label='Predicted Y', c ='red')\n",
    "plt.xlabel('X', fontsize=12, fontweight='bold')\n",
    "plt.ylabel('Y', fontsize=12, fontweight='bold')\n",
    "plt.xticks(fontsize=8, fontweight='bold');\n",
    "plt.yticks(fontsize=8, fontweight='bold');\n",
    "plt.legend();\n",
    "plt.show();"
   ]
  },
  {
   "cell_type": "markdown",
   "metadata": {
    "id": "HQK1e3zu4XHJ"
   },
   "source": [
    "#### Use R2 score to evaluate LR equation output\n",
    "\n",
    "https://en.wikipedia.org/wiki/Coefficient_of_determination"
   ]
  },
  {
   "cell_type": "code",
   "execution_count": 25,
   "metadata": {
    "id": "5nFmIyhH4XHJ"
   },
   "outputs": [],
   "source": [
    "SS_tot = np.sum((Y - np.mean(Y)) ** 2)\n",
    "SS_res = np.sum((pred_y - Y)**2)\n",
    "R_2 =  1 - (SS_res / SS_tot)"
   ]
  },
  {
   "cell_type": "code",
   "execution_count": 26,
   "metadata": {},
   "outputs": [
    {
     "data": {
      "text/plain": [
       "0.8027226692803747"
      ]
     },
     "execution_count": 26,
     "metadata": {},
     "output_type": "execute_result"
    }
   ],
   "source": [
    "R_2"
   ]
  },
  {
   "cell_type": "markdown",
   "metadata": {
    "id": "9lrHZS3I4XHM"
   },
   "source": [
    "## Multivariate LR"
   ]
  },
  {
   "cell_type": "markdown",
   "metadata": {
    "id": "YfBhc3qf4XHM"
   },
   "source": [
    "#### Read MultipleLR csv file into numpy array  (check your data)\n",
    "##### Data source\n",
    "https://college.cengage.com/mathematics/brase/understandable_statistics/7e/students/datasets/slr/frames/frame.html\n"
   ]
  },
  {
   "cell_type": "code",
   "execution_count": 27,
   "metadata": {
    "id": "eb8NPQU84XHM"
   },
   "outputs": [
    {
     "data": {
      "text/plain": [
       "array([[ 73.,  80.,  75., 152.],\n",
       "       [ 93.,  88.,  93., 185.],\n",
       "       [ 89.,  91.,  90., 180.],\n",
       "       [ 96.,  98., 100., 196.],\n",
       "       [ 73.,  66.,  70., 142.],\n",
       "       [ 53.,  46.,  55., 101.],\n",
       "       [ 69.,  74.,  77., 149.],\n",
       "       [ 47.,  56.,  60., 115.],\n",
       "       [ 87.,  79.,  90., 175.],\n",
       "       [ 79.,  70.,  88., 164.],\n",
       "       [ 69.,  70.,  73., 141.],\n",
       "       [ 70.,  65.,  74., 141.],\n",
       "       [ 93.,  95.,  91., 184.],\n",
       "       [ 79.,  80.,  73., 152.],\n",
       "       [ 70.,  73.,  78., 148.],\n",
       "       [ 93.,  89.,  96., 192.],\n",
       "       [ 78.,  75.,  68., 147.],\n",
       "       [ 81.,  90.,  93., 183.],\n",
       "       [ 88.,  92.,  86., 177.],\n",
       "       [ 78.,  83.,  77., 159.],\n",
       "       [ 82.,  86.,  90., 177.],\n",
       "       [ 86.,  82.,  89., 175.],\n",
       "       [ 78.,  83.,  85., 175.],\n",
       "       [ 76.,  83.,  71., 149.],\n",
       "       [ 96.,  93.,  95., 192.]])"
      ]
     },
     "execution_count": 27,
     "metadata": {},
     "output_type": "execute_result"
    }
   ],
   "source": [
    "multi_df = genfromtxt('MultipleLR.csv', delimiter=',')\n",
    "multi_df"
   ]
  },
  {
   "cell_type": "code",
   "execution_count": 28,
   "metadata": {
    "id": "XuwnNe8K4XHM"
   },
   "outputs": [
    {
     "data": {
      "text/plain": [
       "(25, 4)"
      ]
     },
     "execution_count": 28,
     "metadata": {},
     "output_type": "execute_result"
    }
   ],
   "source": [
    "multi_df.shape"
   ]
  },
  {
   "cell_type": "code",
   "execution_count": 29,
   "metadata": {
    "id": "PlsO5BeZ4XHM"
   },
   "outputs": [],
   "source": [
    "multi_X, multi_Y = multi_df[:, :-1], multi_df[:,-1]"
   ]
  },
  {
   "cell_type": "code",
   "execution_count": 30,
   "metadata": {
    "id": "HedKrqpz4XHN"
   },
   "outputs": [
    {
     "data": {
      "text/plain": [
       "array([[ 73.,  80.,  75.],\n",
       "       [ 93.,  88.,  93.],\n",
       "       [ 89.,  91.,  90.],\n",
       "       [ 96.,  98., 100.],\n",
       "       [ 73.,  66.,  70.],\n",
       "       [ 53.,  46.,  55.],\n",
       "       [ 69.,  74.,  77.],\n",
       "       [ 47.,  56.,  60.],\n",
       "       [ 87.,  79.,  90.],\n",
       "       [ 79.,  70.,  88.],\n",
       "       [ 69.,  70.,  73.],\n",
       "       [ 70.,  65.,  74.],\n",
       "       [ 93.,  95.,  91.],\n",
       "       [ 79.,  80.,  73.],\n",
       "       [ 70.,  73.,  78.],\n",
       "       [ 93.,  89.,  96.],\n",
       "       [ 78.,  75.,  68.],\n",
       "       [ 81.,  90.,  93.],\n",
       "       [ 88.,  92.,  86.],\n",
       "       [ 78.,  83.,  77.],\n",
       "       [ 82.,  86.,  90.],\n",
       "       [ 86.,  82.,  89.],\n",
       "       [ 78.,  83.,  85.],\n",
       "       [ 76.,  83.,  71.],\n",
       "       [ 96.,  93.,  95.]])"
      ]
     },
     "execution_count": 30,
     "metadata": {},
     "output_type": "execute_result"
    }
   ],
   "source": [
    "multi_X"
   ]
  },
  {
   "cell_type": "code",
   "execution_count": 31,
   "metadata": {
    "id": "6reKzJ9_4XHN"
   },
   "outputs": [
    {
     "data": {
      "text/plain": [
       "array([152., 185., 180., 196., 142., 101., 149., 115., 175., 164., 141.,\n",
       "       141., 184., 152., 148., 192., 147., 183., 177., 159., 177., 175.,\n",
       "       175., 149., 192.])"
      ]
     },
     "execution_count": 31,
     "metadata": {},
     "output_type": "execute_result"
    }
   ],
   "source": [
    "multi_Y"
   ]
  },
  {
   "cell_type": "markdown",
   "metadata": {},
   "source": [
    "#### Normalization"
   ]
  },
  {
   "cell_type": "code",
   "execution_count": 37,
   "metadata": {},
   "outputs": [],
   "source": [
    "norm = np.linalg.norm(multi_X)\n",
    "multi_X_norm = multi_X / norm"
   ]
  },
  {
   "cell_type": "code",
   "execution_count": 38,
   "metadata": {},
   "outputs": [
    {
     "data": {
      "text/plain": [
       "array([[0.10420302, 0.11419509, 0.1070579 ],\n",
       "       [0.1327518 , 0.1256146 , 0.1327518 ],\n",
       "       [0.12704204, 0.12989692, 0.12846948],\n",
       "       [0.13703411, 0.13988899, 0.14274387],\n",
       "       [0.10420302, 0.09421095, 0.09992071],\n",
       "       [0.07565425, 0.06566218, 0.07850913],\n",
       "       [0.09849327, 0.10563046, 0.10991278],\n",
       "       [0.06708962, 0.07993657, 0.08564632],\n",
       "       [0.12418716, 0.11276765, 0.12846948],\n",
       "       [0.11276765, 0.09992071, 0.1256146 ],\n",
       "       [0.09849327, 0.09992071, 0.10420302],\n",
       "       [0.09992071, 0.09278351, 0.10563046],\n",
       "       [0.1327518 , 0.13560667, 0.12989692],\n",
       "       [0.11276765, 0.11419509, 0.10420302],\n",
       "       [0.09992071, 0.10420302, 0.11134022],\n",
       "       [0.1327518 , 0.12704204, 0.13703411],\n",
       "       [0.11134022, 0.1070579 , 0.09706583],\n",
       "       [0.11562253, 0.12846948, 0.1327518 ],\n",
       "       [0.1256146 , 0.13132436, 0.12275973],\n",
       "       [0.11134022, 0.11847741, 0.10991278],\n",
       "       [0.11704997, 0.12275973, 0.12846948],\n",
       "       [0.12275973, 0.11704997, 0.12704204],\n",
       "       [0.11134022, 0.11847741, 0.12133229],\n",
       "       [0.10848534, 0.11847741, 0.10134815],\n",
       "       [0.13703411, 0.1327518 , 0.13560667]])"
      ]
     },
     "execution_count": 38,
     "metadata": {},
     "output_type": "execute_result"
    }
   ],
   "source": [
    "multi_X_norm"
   ]
  },
  {
   "cell_type": "markdown",
   "metadata": {
    "id": "GU8VenTA4XHN"
   },
   "source": [
    "### Repeat your implementation but for more than one variable"
   ]
  },
  {
   "cell_type": "code",
   "execution_count": 39,
   "metadata": {
    "id": "QSSPG46W4XHN"
   },
   "outputs": [],
   "source": [
    "multi_theta_0 = 0\n",
    "theta = np.zeros(multi_X_norm.shape[1])\n",
    "multi_L = 0.1"
   ]
  },
  {
   "cell_type": "code",
   "execution_count": 40,
   "metadata": {},
   "outputs": [
    {
     "data": {
      "text/plain": [
       "array([0., 0., 0.])"
      ]
     },
     "execution_count": 40,
     "metadata": {},
     "output_type": "execute_result"
    }
   ],
   "source": [
    "theta"
   ]
  },
  {
   "cell_type": "code",
   "execution_count": 41,
   "metadata": {},
   "outputs": [],
   "source": [
    "multi_hx = multi_theta_0 + np.dot(multi_X_norm, theta)"
   ]
  },
  {
   "cell_type": "code",
   "execution_count": 42,
   "metadata": {},
   "outputs": [
    {
     "data": {
      "text/plain": [
       "array([0., 0., 0., 0., 0., 0., 0., 0., 0., 0., 0., 0., 0., 0., 0., 0., 0.,\n",
       "       0., 0., 0., 0., 0., 0., 0., 0.])"
      ]
     },
     "execution_count": 42,
     "metadata": {},
     "output_type": "execute_result"
    }
   ],
   "source": [
    "multi_hx"
   ]
  },
  {
   "cell_type": "code",
   "execution_count": 54,
   "metadata": {},
   "outputs": [],
   "source": [
    "multi_m = len(multi_Y)\n",
    "multi_J = (1/ (2 * multi_m)) * (np.sum((multi_hx - multi_Y) ** 2))"
   ]
  },
  {
   "cell_type": "code",
   "execution_count": 55,
   "metadata": {},
   "outputs": [
    {
     "data": {
      "text/plain": [
       "13405.98"
      ]
     },
     "execution_count": 55,
     "metadata": {},
     "output_type": "execute_result"
    }
   ],
   "source": [
    "multi_J"
   ]
  },
  {
   "cell_type": "code",
   "execution_count": 57,
   "metadata": {},
   "outputs": [],
   "source": [
    "multi_GD_1 = (1/multi_m) * (np.sum(multi_hx - multi_Y))\n",
    "multi_GD_2 = (1/multi_m) * (np.sum((multi_hx - multi_Y)[:, None] * multi_X_norm))"
   ]
  },
  {
   "cell_type": "code",
   "execution_count": 58,
   "metadata": {},
   "outputs": [
    {
     "data": {
      "text/plain": [
       "-162.04"
      ]
     },
     "execution_count": 58,
     "metadata": {},
     "output_type": "execute_result"
    }
   ],
   "source": [
    "multi_GD_1"
   ]
  },
  {
   "cell_type": "code",
   "execution_count": 59,
   "metadata": {},
   "outputs": [
    {
     "data": {
      "text/plain": [
       "-56.65515486917161"
      ]
     },
     "execution_count": 59,
     "metadata": {},
     "output_type": "execute_result"
    }
   ],
   "source": [
    "multi_GD_2"
   ]
  },
  {
   "cell_type": "code",
   "execution_count": null,
   "metadata": {},
   "outputs": [],
   "source": []
  },
  {
   "cell_type": "code",
   "execution_count": null,
   "metadata": {},
   "outputs": [],
   "source": []
  },
  {
   "cell_type": "code",
   "execution_count": null,
   "metadata": {},
   "outputs": [],
   "source": []
  },
  {
   "cell_type": "markdown",
   "metadata": {
    "id": "iIPoy12g4XHN"
   },
   "source": [
    "#### Predict y values using the LR equation\n",
    "##### h(x)= theta_0 + theta_1 * x1 + theta_2 * x2 + theta_3 * x3"
   ]
  },
  {
   "cell_type": "code",
   "execution_count": null,
   "metadata": {
    "id": "As71prp64XHO"
   },
   "outputs": [],
   "source": []
  },
  {
   "cell_type": "markdown",
   "metadata": {
    "id": "Q0wWLedQ4XHO"
   },
   "source": [
    "### Plot loss vs. iterations"
   ]
  },
  {
   "cell_type": "code",
   "execution_count": null,
   "metadata": {
    "id": "yNJHYf4d4XHO",
    "scrolled": false
   },
   "outputs": [],
   "source": []
  },
  {
   "cell_type": "markdown",
   "metadata": {
    "id": "kAEh9fwn4XHO"
   },
   "source": [
    "#### Use R2 score to evaluate LR equation output"
   ]
  },
  {
   "cell_type": "code",
   "execution_count": null,
   "metadata": {
    "id": "6BlFOKGT4XHO"
   },
   "outputs": [],
   "source": []
  },
  {
   "cell_type": "markdown",
   "metadata": {
    "id": "3nxB1JfC4XHP"
   },
   "source": [
    "# Bonus\n",
    "## LR Using sklearn"
   ]
  },
  {
   "cell_type": "markdown",
   "metadata": {
    "id": "zBhbG-Rn4XHP"
   },
   "source": [
    "### Single Variable"
   ]
  },
  {
   "cell_type": "markdown",
   "metadata": {
    "id": "nfWdgn2B4XHP"
   },
   "source": [
    "#### Build a LR model usin linearmodel.LinearRegression() from sklearn library"
   ]
  },
  {
   "cell_type": "code",
   "execution_count": null,
   "metadata": {
    "id": "Z4TqfNkL4XHP"
   },
   "outputs": [],
   "source": []
  },
  {
   "cell_type": "code",
   "execution_count": null,
   "metadata": {
    "id": "iS32FGMt4XHP"
   },
   "outputs": [],
   "source": []
  },
  {
   "cell_type": "markdown",
   "metadata": {
    "id": "1h1LBaZ04XHP"
   },
   "source": [
    "#### Train the model (fit the model to the training data)"
   ]
  },
  {
   "cell_type": "code",
   "execution_count": null,
   "metadata": {
    "id": "t5txTdsF4XHQ",
    "scrolled": true
   },
   "outputs": [],
   "source": []
  },
  {
   "cell_type": "markdown",
   "metadata": {
    "id": "AT7dlHrr4XHQ"
   },
   "source": [
    "#### Predict y values using the trained model"
   ]
  },
  {
   "cell_type": "code",
   "execution_count": null,
   "metadata": {
    "id": "_o3a13qr4XHQ"
   },
   "outputs": [],
   "source": []
  },
  {
   "cell_type": "markdown",
   "metadata": {
    "id": "Fhguz-M44XHQ"
   },
   "source": [
    "#### Plot model output (fitted line) with the original data (scatter plot of X,y)"
   ]
  },
  {
   "cell_type": "code",
   "execution_count": null,
   "metadata": {
    "id": "OE_bn6fF4XHQ"
   },
   "outputs": [],
   "source": []
  },
  {
   "cell_type": "markdown",
   "metadata": {
    "id": "Ll7pleAP4XHQ"
   },
   "source": [
    "#### Use R2 score to evaluate model output"
   ]
  },
  {
   "cell_type": "code",
   "execution_count": null,
   "metadata": {
    "id": "RMqI52XH4XHQ"
   },
   "outputs": [],
   "source": []
  },
  {
   "cell_type": "code",
   "execution_count": null,
   "metadata": {
    "id": "3piUSk2T4XHQ"
   },
   "outputs": [],
   "source": []
  },
  {
   "cell_type": "markdown",
   "metadata": {
    "id": "Wo3dlEne4XHR"
   },
   "source": [
    "### Repeat for Mulivariate"
   ]
  },
  {
   "cell_type": "code",
   "execution_count": null,
   "metadata": {
    "id": "AxWIwSNr4XHR"
   },
   "outputs": [],
   "source": []
  }
 ],
 "metadata": {
  "colab": {
   "name": "Practical Session 1 GD Implementation for LR .ipynb",
   "provenance": []
  },
  "kernelspec": {
   "display_name": "Python 3",
   "language": "python",
   "name": "python3"
  },
  "language_info": {
   "codemirror_mode": {
    "name": "ipython",
    "version": 3
   },
   "file_extension": ".py",
   "mimetype": "text/x-python",
   "name": "python",
   "nbconvert_exporter": "python",
   "pygments_lexer": "ipython3",
   "version": "3.8.5"
  }
 },
 "nbformat": 4,
 "nbformat_minor": 1
}
