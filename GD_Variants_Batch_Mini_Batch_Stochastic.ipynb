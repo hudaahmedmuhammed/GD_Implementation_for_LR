{
  "nbformat": 4,
  "nbformat_minor": 0,
  "metadata": {
    "kernelspec": {
      "display_name": "Python 3",
      "language": "python",
      "name": "python3"
    },
    "language_info": {
      "codemirror_mode": {
        "name": "ipython",
        "version": 3
      },
      "file_extension": ".py",
      "mimetype": "text/x-python",
      "name": "python",
      "nbconvert_exporter": "python",
      "pygments_lexer": "ipython3",
      "version": "3.8.5"
    },
    "colab": {
      "name": "Practical Session 2 GD Variants Batch - Mini-Batch - Stochastic.ipynb",
      "provenance": []
    }
  },
  "cells": [
    {
      "cell_type": "markdown",
      "metadata": {
        "id": "KkC0EfJi4ZR4"
      },
      "source": [
        "## Practical Work 2"
      ]
    },
    {
      "cell_type": "markdown",
      "metadata": {
        "id": "dcQG1e6A4ZR_"
      },
      "source": [
        "For this practical work, the student will have to develop a Python program that is able to implement the gradient descent variants (Batch/Mini-Batch/Stochastic) in order to achieve the linear regression of a set of datapoints."
      ]
    },
    {
      "cell_type": "markdown",
      "metadata": {
        "id": "TdhHAZKa4ZSC"
      },
      "source": [
        "#### Import numpy, matplotlib.pyplot and make it inline"
      ]
    },
    {
      "cell_type": "code",
      "metadata": {
        "id": "O1GrzE1b4ZSD"
      },
      "source": [
        ""
      ],
      "execution_count": null,
      "outputs": []
    },
    {
      "cell_type": "markdown",
      "metadata": {
        "id": "-EWgj3zo4ZSF"
      },
      "source": [
        "To have a dataset or set of data points, the student must generate a pair of arrays <b>X</b> and <b>y</b> with the values in <b>X</b> equally distributed between <b>0</b> and <b>20</b> and the values in <b>y</b> such that: \n",
        "<b>yi = a*xi + b (and a = -2, b = 1)</b>\n"
      ]
    },
    {
      "cell_type": "code",
      "metadata": {
        "id": "TvaeMK-P4ZSH"
      },
      "source": [
        ""
      ],
      "execution_count": null,
      "outputs": []
    },
    {
      "cell_type": "code",
      "metadata": {
        "id": "8pM4ADPD4ZSI"
      },
      "source": [
        ""
      ],
      "execution_count": null,
      "outputs": []
    },
    {
      "cell_type": "markdown",
      "metadata": {
        "id": "vXPTKQlM4ZSL"
      },
      "source": [
        "#### Use your code from practical session 1 and create a function to perform GD for single variable linear regression.\n",
        "#### The function should take the following input parameters:\n",
        "##### Input data (X), Target Labels (y), Learning Rate (alpha), Maximum number of iterations\n",
        "#### The function should return the following:\n",
        "##### All Theta_0 and Theta_1 values till converge, and equivellant Losses, all hypothesis output, and optimum values of Theta_0 and Theta_1\n",
        "#### Note: you can choose any suitable stop criteria."
      ]
    },
    {
      "cell_type": "code",
      "metadata": {
        "id": "_D67z8Mo4ZSO"
      },
      "source": [
        ""
      ],
      "execution_count": null,
      "outputs": []
    },
    {
      "cell_type": "markdown",
      "metadata": {
        "id": "RHTp7K0R4ZSQ"
      },
      "source": [
        "#### Try your function with any input parameterss of your choice."
      ]
    },
    {
      "cell_type": "code",
      "metadata": {
        "id": "oO5UVoTb4ZSR"
      },
      "source": [
        ""
      ],
      "execution_count": null,
      "outputs": []
    },
    {
      "cell_type": "markdown",
      "metadata": {
        "id": "eIr5pRBw4ZSS"
      },
      "source": [
        "#### Calculate r2 score"
      ]
    },
    {
      "cell_type": "code",
      "metadata": {
        "id": "6WscXEJ34ZST"
      },
      "source": [
        ""
      ],
      "execution_count": null,
      "outputs": []
    },
    {
      "cell_type": "code",
      "metadata": {
        "id": "8MzBaKYP4ZSU"
      },
      "source": [
        ""
      ],
      "execution_count": null,
      "outputs": []
    },
    {
      "cell_type": "code",
      "metadata": {
        "id": "gx9KLT9U4ZSV"
      },
      "source": [
        ""
      ],
      "execution_count": null,
      "outputs": []
    },
    {
      "cell_type": "markdown",
      "metadata": {
        "id": "hBK4TDpN4ZSW"
      },
      "source": [
        "#### Plot loss vs. epochs"
      ]
    },
    {
      "cell_type": "code",
      "metadata": {
        "id": "do981MPD4ZSX"
      },
      "source": [
        ""
      ],
      "execution_count": null,
      "outputs": []
    },
    {
      "cell_type": "code",
      "metadata": {
        "scrolled": false,
        "id": "fNt3AkRI4ZSX"
      },
      "source": [
        ""
      ],
      "execution_count": null,
      "outputs": []
    },
    {
      "cell_type": "markdown",
      "metadata": {
        "id": "fBvTPAgJ4ZSY"
      },
      "source": [
        "#### Plot Theta_0 vs. loss and Theta_1 vs. loss"
      ]
    },
    {
      "cell_type": "code",
      "metadata": {
        "id": "MZwc-jY84ZSZ"
      },
      "source": [
        ""
      ],
      "execution_count": null,
      "outputs": []
    },
    {
      "cell_type": "code",
      "metadata": {
        "id": "FhuW65KN4ZSZ"
      },
      "source": [
        ""
      ],
      "execution_count": null,
      "outputs": []
    },
    {
      "cell_type": "code",
      "metadata": {
        "id": "9gE2ETYp4ZSa"
      },
      "source": [
        ""
      ],
      "execution_count": null,
      "outputs": []
    },
    {
      "cell_type": "markdown",
      "metadata": {
        "id": "EFaSOPur4ZSa"
      },
      "source": [
        "#### Plot all regression lines till converge"
      ]
    },
    {
      "cell_type": "code",
      "metadata": {
        "id": "SkrQpIpJ4ZSb"
      },
      "source": [
        ""
      ],
      "execution_count": null,
      "outputs": []
    },
    {
      "cell_type": "code",
      "metadata": {
        "id": "0mCpeIMi4ZSb"
      },
      "source": [
        ""
      ],
      "execution_count": null,
      "outputs": []
    },
    {
      "cell_type": "markdown",
      "metadata": {
        "id": "KQlXV-Js4ZSb"
      },
      "source": [
        "#### Plot the best regression line"
      ]
    },
    {
      "cell_type": "code",
      "metadata": {
        "id": "QjwzM0uH4ZSc"
      },
      "source": [
        ""
      ],
      "execution_count": null,
      "outputs": []
    },
    {
      "cell_type": "code",
      "metadata": {
        "id": "5UXQGQ6N4ZSc"
      },
      "source": [
        ""
      ],
      "execution_count": null,
      "outputs": []
    },
    {
      "cell_type": "markdown",
      "metadata": {
        "id": "j22YFzBo4ZSc"
      },
      "source": [
        "#### Try different learning rate and number of iterations then plot loss vs. epochs, loss vs. Theat_0 and Theta_1\n",
        "#### all regression lines till converge, and the best regression line\n",
        "#### and see the difference in output."
      ]
    },
    {
      "cell_type": "code",
      "metadata": {
        "id": "Lwk6IUti4ZSd"
      },
      "source": [
        ""
      ],
      "execution_count": null,
      "outputs": []
    },
    {
      "cell_type": "code",
      "metadata": {
        "id": "LOdd-psY4ZSd"
      },
      "source": [
        ""
      ],
      "execution_count": null,
      "outputs": []
    },
    {
      "cell_type": "code",
      "metadata": {
        "id": "20j0jlJ74ZSe"
      },
      "source": [
        ""
      ],
      "execution_count": null,
      "outputs": []
    },
    {
      "cell_type": "code",
      "metadata": {
        "id": "qWIN7lee4ZSe"
      },
      "source": [
        ""
      ],
      "execution_count": null,
      "outputs": []
    },
    {
      "cell_type": "code",
      "metadata": {
        "id": "jYAdbP704ZSe"
      },
      "source": [
        ""
      ],
      "execution_count": null,
      "outputs": []
    },
    {
      "cell_type": "code",
      "metadata": {
        "id": "BjywKaop4ZSf"
      },
      "source": [
        ""
      ],
      "execution_count": null,
      "outputs": []
    },
    {
      "cell_type": "code",
      "metadata": {
        "id": "VDaQd2_e4ZSf"
      },
      "source": [
        ""
      ],
      "execution_count": null,
      "outputs": []
    },
    {
      "cell_type": "code",
      "metadata": {
        "id": "rVhIh8ac4ZSf"
      },
      "source": [
        ""
      ],
      "execution_count": null,
      "outputs": []
    },
    {
      "cell_type": "code",
      "metadata": {
        "id": "cZtAdMLb4ZSg"
      },
      "source": [
        ""
      ],
      "execution_count": null,
      "outputs": []
    },
    {
      "cell_type": "code",
      "metadata": {
        "id": "XKrPvhej4ZSg"
      },
      "source": [
        ""
      ],
      "execution_count": null,
      "outputs": []
    },
    {
      "cell_type": "code",
      "metadata": {
        "id": "OiDWcUP14ZSg"
      },
      "source": [
        ""
      ],
      "execution_count": null,
      "outputs": []
    },
    {
      "cell_type": "code",
      "metadata": {
        "id": "t_hsjexF4ZSh"
      },
      "source": [
        ""
      ],
      "execution_count": null,
      "outputs": []
    },
    {
      "cell_type": "markdown",
      "metadata": {
        "id": "yb33PPVT4ZSh"
      },
      "source": [
        "#### Update the implementation of the Batch GD to be Mini-Batch and rpeat the above plots and evaluations\n",
        "#### Change batch size and see the effect"
      ]
    },
    {
      "cell_type": "code",
      "metadata": {
        "id": "Op85fBz54ZSh"
      },
      "source": [
        ""
      ],
      "execution_count": null,
      "outputs": []
    },
    {
      "cell_type": "code",
      "metadata": {
        "id": "rnBKDMf44ZSi"
      },
      "source": [
        ""
      ],
      "execution_count": null,
      "outputs": []
    },
    {
      "cell_type": "code",
      "metadata": {
        "id": "yZI0sI984ZSi"
      },
      "source": [
        ""
      ],
      "execution_count": null,
      "outputs": []
    },
    {
      "cell_type": "code",
      "metadata": {
        "id": "qO-LxkS34ZSi"
      },
      "source": [
        ""
      ],
      "execution_count": null,
      "outputs": []
    },
    {
      "cell_type": "code",
      "metadata": {
        "id": "9j1utchF4ZSi"
      },
      "source": [
        ""
      ],
      "execution_count": null,
      "outputs": []
    },
    {
      "cell_type": "code",
      "metadata": {
        "id": "TjVyn_vZ4ZSj"
      },
      "source": [
        ""
      ],
      "execution_count": null,
      "outputs": []
    },
    {
      "cell_type": "code",
      "metadata": {
        "id": "yo9iLQd-4ZSj"
      },
      "source": [
        ""
      ],
      "execution_count": null,
      "outputs": []
    },
    {
      "cell_type": "code",
      "metadata": {
        "id": "qUD5yY0d4ZSj"
      },
      "source": [
        ""
      ],
      "execution_count": null,
      "outputs": []
    },
    {
      "cell_type": "code",
      "metadata": {
        "id": "GVi0pnVg4ZSj"
      },
      "source": [
        ""
      ],
      "execution_count": null,
      "outputs": []
    },
    {
      "cell_type": "code",
      "metadata": {
        "id": "ILhUUfha4ZSk"
      },
      "source": [
        ""
      ],
      "execution_count": null,
      "outputs": []
    },
    {
      "cell_type": "code",
      "metadata": {
        "id": "JAPctS0l4ZSk"
      },
      "source": [
        ""
      ],
      "execution_count": null,
      "outputs": []
    },
    {
      "cell_type": "code",
      "metadata": {
        "id": "hRkAN_Yx4ZSk"
      },
      "source": [
        ""
      ],
      "execution_count": null,
      "outputs": []
    },
    {
      "cell_type": "code",
      "metadata": {
        "id": "1Jz41xfI4ZSk"
      },
      "source": [
        ""
      ],
      "execution_count": null,
      "outputs": []
    },
    {
      "cell_type": "code",
      "metadata": {
        "id": "I6hlzMED4ZSl"
      },
      "source": [
        ""
      ],
      "execution_count": null,
      "outputs": []
    },
    {
      "cell_type": "code",
      "metadata": {
        "id": "58EvOFrv4ZSl"
      },
      "source": [
        ""
      ],
      "execution_count": null,
      "outputs": []
    },
    {
      "cell_type": "markdown",
      "metadata": {
        "id": "-Z_Fok1p4ZSl"
      },
      "source": [
        "## Stochastic GD"
      ]
    },
    {
      "cell_type": "markdown",
      "metadata": {
        "id": "eo2FUV5B4ZSl"
      },
      "source": [
        "#### Update the implementation of the Batch GD to beStochastic and rpeat the above plots and evaluations\n",
        "#### You can try different learning rate and see its effect.\n",
        "#### Compare to Batch and Mini-Batch GD"
      ]
    },
    {
      "cell_type": "code",
      "metadata": {
        "id": "hkpqao_E4ZSm"
      },
      "source": [
        ""
      ],
      "execution_count": null,
      "outputs": []
    },
    {
      "cell_type": "code",
      "metadata": {
        "id": "BJjV3nnB4ZSm"
      },
      "source": [
        ""
      ],
      "execution_count": null,
      "outputs": []
    },
    {
      "cell_type": "code",
      "metadata": {
        "id": "PVDr1Fm24ZSn"
      },
      "source": [
        ""
      ],
      "execution_count": null,
      "outputs": []
    },
    {
      "cell_type": "code",
      "metadata": {
        "id": "go34VuaZ4ZSn"
      },
      "source": [
        ""
      ],
      "execution_count": null,
      "outputs": []
    },
    {
      "cell_type": "code",
      "metadata": {
        "id": "laGfIYJ94ZSn"
      },
      "source": [
        ""
      ],
      "execution_count": null,
      "outputs": []
    },
    {
      "cell_type": "code",
      "metadata": {
        "id": "IpgqHDaI4ZSo"
      },
      "source": [
        ""
      ],
      "execution_count": null,
      "outputs": []
    },
    {
      "cell_type": "code",
      "metadata": {
        "id": "9xmz3M5x4ZSo"
      },
      "source": [
        ""
      ],
      "execution_count": null,
      "outputs": []
    },
    {
      "cell_type": "code",
      "metadata": {
        "id": "4jg2aybn4ZSp"
      },
      "source": [
        ""
      ],
      "execution_count": null,
      "outputs": []
    },
    {
      "cell_type": "code",
      "metadata": {
        "id": "4DwrxgRc4ZSp"
      },
      "source": [
        ""
      ],
      "execution_count": null,
      "outputs": []
    },
    {
      "cell_type": "code",
      "metadata": {
        "id": "hRmGJqcG4ZSp"
      },
      "source": [
        ""
      ],
      "execution_count": null,
      "outputs": []
    }
  ]
}